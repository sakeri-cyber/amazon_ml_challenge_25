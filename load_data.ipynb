{
 "cells": [
  {
   "cell_type": "code",
   "execution_count": null,
   "id": "3fbe9bb0",
   "metadata": {},
   "outputs": [],
   "source": [
    "'''\n",
    "File to download both train and test data\n",
    "'''\n",
    "import pandas as pd\n",
    "from student_resource.src.utils import download_images\n",
    "from pathlib import Path\n",
    "import matplotlib.pyplot as plt"
   ]
  },
  {
   "cell_type": "code",
   "execution_count": 7,
   "id": "a0c33ad3-d345-494a-b6e5-35cf3ebb6c94",
   "metadata": {},
   "outputs": [],
   "source": [
    "data = pd.read_csv('train.csv')"
   ]
  },
  {
   "cell_type": "code",
   "execution_count": 11,
   "id": "d51736b7-8caf-443a-9d5b-be762b3dcc19",
   "metadata": {},
   "outputs": [
    {
     "data": {
      "text/plain": [
       "(array([7.4879e+04, 1.0700e+02, 8.0000e+00, 2.0000e+00, 2.0000e+00,\n",
       "        0.0000e+00, 0.0000e+00, 0.0000e+00, 0.0000e+00, 1.0000e+00]),\n",
       " array([1.300000e-01, 2.797170e+02, 5.593040e+02, 8.388910e+02,\n",
       "        1.118478e+03, 1.398065e+03, 1.677652e+03, 1.957239e+03,\n",
       "        2.236826e+03, 2.516413e+03, 2.796000e+03]),\n",
       " <BarContainer object of 10 artists>)"
      ]
     },
     "execution_count": 11,
     "metadata": {},
     "output_type": "execute_result"
    },
    {
     "data": {
      "image/png": "[encoded data removed]",
      "text/plain": [
       "<Figure size 640x480 with 1 Axes>"
      ]
     },
     "metadata": {},
     "output_type": "display_data"
    }
   ],
   "source": [
    "plt.hist(data['price'])"
   ]
  },
  {
   "cell_type": "code",
   "execution_count": 12,
   "id": "94773e02-2897-4c68-beeb-4de6c68ba71e",
   "metadata": {},
   "outputs": [
    {
     "data": {
      "text/plain": [
       "{'whiskers': [<matplotlib.lines.Line2D at 0x7a02d8f5b3e0>,\n",
       "  <matplotlib.lines.Line2D at 0x7a02d8f5bd40>],\n",
       " 'caps': [<matplotlib.lines.Line2D at 0x7a02d8f5b9b0>,\n",
       "  <matplotlib.lines.Line2D at 0x7a02d8f59bb0>],\n",
       " 'boxes': [<matplotlib.lines.Line2D at 0x7a02d8e6e7b0>],\n",
       " 'medians': [<matplotlib.lines.Line2D at 0x7a02d8f5bc80>],\n",
       " 'fliers': [<matplotlib.lines.Line2D at 0x7a02d8e6e900>],\n",
       " 'means': []}"
      ]
     },
     "execution_count": 12,
     "metadata": {},
     "output_type": "execute_result"
    },
    {
     "data": {
      "image/png": "[encoded data removed]",
      "text/plain": [
       "<Figure size 640x480 with 1 Axes>"
      ]
     },
     "metadata": {},
     "output_type": "display_data"
    }
   ],
   "source": [
    "plt.boxplot(data['price'])"
   ]
  },
  {
   "cell_type": "code",
   "execution_count": 3,
   "id": "4fd6126f-928f-499e-8118-ceda3661d2fa",
   "metadata": {},
   "outputs": [
    {
     "name": "stderr",
     "output_type": "stream",
     "text": [
      "100%|██████████| 74999/74999 [02:25<00:00, 516.50it/s] \n"
     ]
    }
   ],
   "source": [
    "download_images(data['image_link'], 'train_images')"
   ]
  },
  {
   "cell_type": "code",
   "execution_count": 14,
   "id": "3220bc04-e00a-4360-9ad9-1bf775173f22",
   "metadata": {},
   "outputs": [],
   "source": [
    "from PIL import Image\n",
    "\n",
    "min_ratio = [float('inf'), float('inf')]\n",
    "for i, row in data.iterrows():\n",
    "    name = Path(row['image_link']).name\n",
    "    img = Image.open(f'train_images/{name}')\n",
    "    min_ratio[0] = min(min_ratio[0], img.size[0])\n",
    "    min_ratio[1] = min(min_ratio[1], img.size[1])\n",
    "    "
   ]
  },
  {
   "cell_type": "code",
   "execution_count": 15,
   "id": "eb269f6d-f2f4-41be-a481-83d9b1dd5d5b",
   "metadata": {},
   "outputs": [
    {
     "data": {
      "text/plain": [
       "[30, 53]"
      ]
     },
     "execution_count": 15,
     "metadata": {},
     "output_type": "execute_result"
    }
   ],
   "source": [
    "min_ratio"
   ]
  },
  {
   "cell_type": "code",
   "execution_count": 7,
   "id": "531c1eee-dda9-43b7-aae7-a1d3c40c65d8",
   "metadata": {},
   "outputs": [],
   "source": [
    "fail_indexes = []\n",
    "for i, row in data.iterrows():\n",
    "    name = Path(row['image_link']).name\n",
    "    try:\n",
    "        with open(f'train_images/{name}') as f:\n",
    "            pass\n",
    "    except:\n",
    "        fail_indexes.append(i)\n",
    "        "
   ]
  },
  {
   "cell_type": "code",
   "execution_count": 9,
   "id": "55d1dab7-14f3-41c9-9b4f-763a1c7d891f",
   "metadata": {},
   "outputs": [
    {
     "data": {
      "text/plain": [
       "[38945]"
      ]
     },
     "execution_count": 9,
     "metadata": {},
     "output_type": "execute_result"
    }
   ],
   "source": [
    "fail_indexes"
   ]
  },
  {
   "cell_type": "code",
   "execution_count": 10,
   "id": "cfb457f5-8570-405d-aab6-e7ba1fefdb24",
   "metadata": {},
   "outputs": [],
   "source": [
    "data = data.drop(fail_indexes).reset_index(drop=True)"
   ]
  },
  {
   "cell_type": "code",
   "execution_count": 12,
   "id": "58cc1db8-126b-4f51-9385-2f2dc32f8ff0",
   "metadata": {},
   "outputs": [],
   "source": [
    "data.to_csv('train.csv', index=False)"
   ]
  },
  {
   "cell_type": "code",
   "execution_count": 4,
   "id": "dfabde3f-2586-4fbd-8cab-2b1389c9494f",
   "metadata": {},
   "outputs": [],
   "source": [
    "data = pd.read_csv('student_resource/dataset/test.csv')"
   ]
  },
  {
   "cell_type": "code",
   "execution_count": 5,
   "id": "066bf537-60ec-40d8-8f22-15915d5831e5",
   "metadata": {},
   "outputs": [
    {
     "name": "stderr",
     "output_type": "stream",
     "text": [
      " 53%|█████▎    | 39682/75000 [01:20<01:03, 555.45it/s] "
     ]
    },
    {
     "name": "stdout",
     "output_type": "stream",
     "text": [
      "Warning: Not able to download - https://m.media-amazon.com/images/I/813CjSgHj0S.jpg\n",
      "HTTP Error 404: Not Found\n"
     ]
    },
    {
     "name": "stderr",
     "output_type": "stream",
     "text": [
      "100%|██████████| 75000/75000 [02:24<00:00, 518.95it/s] \n"
     ]
    }
   ],
   "source": [
    "download_images(data['image_link'], 'test_images')"
   ]
  },
  {
   "cell_type": "code",
   "execution_count": 4,
   "id": "89a967c2-fef4-4a76-891e-57bcfda5e3a3",
   "metadata": {},
   "outputs": [],
   "source": [
    "fail_indexes = []\n",
    "for i, row in data.iterrows():\n",
    "    name = Path(row['image_link']).name\n",
    "    try:\n",
    "        with open(f'test_images/{name}') as f:\n",
    "            pass\n",
    "    except:\n",
    "        fail_indexes.append(i)"
   ]
  },
  {
   "cell_type": "code",
   "execution_count": 5,
   "id": "f342857b-bd60-42b5-b6e2-a3ffee9619f6",
   "metadata": {},
   "outputs": [
    {
     "data": {
      "text/plain": [
       "[42045]"
      ]
     },
     "execution_count": 5,
     "metadata": {},
     "output_type": "execute_result"
    }
   ],
   "source": [
    "fail_indexes"
   ]
  },
  {
   "cell_type": "code",
   "execution_count": null,
   "id": "e7968156-905c-4fc5-940d-55d0b25c791b",
   "metadata": {},
   "outputs": [],
   "source": []
  }
 ],
 "metadata": {
  "kernelspec": {
   "display_name": "Python 3",
   "language": "python",
   "name": "python3"
  },
  "language_info": {
   "codemirror_mode": {
    "name": "ipython",
    "version": 3
   },
   "file_extension": ".py",
   "mimetype": "text/x-python",
   "name": "python",
   "nbconvert_exporter": "python",
   "pygments_lexer": "ipython3",
   "version": "3.10.7"
  }
 },
 "nbformat": 4,
 "nbformat_minor": 5
}
