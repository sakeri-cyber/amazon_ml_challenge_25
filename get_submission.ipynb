{
 "cells": [
  {
   "cell_type": "code",
   "execution_count": null,
   "id": "4f5a71d8-0a52-4738-a86c-2e7c91915051",
   "metadata": {},
   "outputs": [],
   "source": [
    "'''\n",
    "Get submission for Clip -> Feed Forward Model\n",
    "'''\n",
    "from model_data import PriceModel, PriceDataset, collate_function, SMAPELoss\n",
    "import pandas as pd\n",
    "import numpy as np\n",
    "import torch\n",
    "from torch.utils.data import DataLoader\n",
    "import gc\n",
    "from tqdm import tqdm\n",
    "import matplotlib.pyplot as plt"
   ]
  },
  {
   "cell_type": "code",
   "execution_count": 2,
   "id": "3f51d3e8-eeba-4988-8cc1-785631086723",
   "metadata": {},
   "outputs": [
    {
     "data": {
      "application/vnd.jupyter.widget-view+json": {
       "model_id": "78c9144a318e4f769d2ccb69d32c8823",
       "version_major": 2,
       "version_minor": 0
      },
      "text/plain": [
       "Fetching 1 files:   0%|          | 0/1 [00:00<?, ?it/s]"
      ]
     },
     "metadata": {},
     "output_type": "display_data"
    },
    {
     "name": "stderr",
     "output_type": "stream",
     "text": [
      "Using a slow image processor as `use_fast` is unset and a slow processor was saved with this model. `use_fast=True` will be the default behavior in v4.52, even if the model was saved with a slow processor. This will result in minor differences in outputs. You'll still be able to use a slow processor with `use_fast=False`.\n"
     ]
    },
    {
     "data": {
      "application/vnd.jupyter.widget-view+json": {
       "model_id": "d09a9d4b5ad54f37843f31ff98fbed94",
       "version_major": 2,
       "version_minor": 0
      },
      "text/plain": [
       "Fetching 1 files:   0%|          | 0/1 [00:00<?, ?it/s]"
      ]
     },
     "metadata": {},
     "output_type": "display_data"
    }
   ],
   "source": [
    "use_log_scale=True\n",
    "test_dataset = PriceDataset(annotations_file='student_resource/dataset/test_focused.csv', image_dir='test_images', content_col='focused_sentence',\n",
    "                            return_target=False, use_log_scale=use_log_scale)\n",
    "\n",
    "batch_size = 256\n",
    "test_loader = DataLoader(dataset=test_dataset, shuffle=False, batch_size=batch_size, collate_fn=collate_function, num_workers = 4)\n",
    "\n",
    "base_checkpoint = 'google/siglip2-large-patch16-256'\n",
    "checkpoint = 'output/best.pth'\n",
    "model = PriceModel(base_checkpoint, cache_dir = 'hf_models')\n",
    "model.load_checkpoint(checkpoint=checkpoint)"
   ]
  },
  {
   "cell_type": "code",
   "execution_count": 3,
   "id": "2c447a5f-ea0a-4ee6-a6a3-b470c0cd67f7",
   "metadata": {},
   "outputs": [
    {
     "data": {
      "text/plain": [
       "89"
      ]
     },
     "execution_count": 3,
     "metadata": {},
     "output_type": "execute_result"
    }
   ],
   "source": [
    "torch.cuda.empty_cache()\n",
    "gc.collect()"
   ]
  },
  {
   "cell_type": "code",
   "execution_count": 4,
   "id": "4077c680-4dcb-42cd-967a-39d6a57026e7",
   "metadata": {},
   "outputs": [],
   "source": [
    "# batch = next(iter(test_loader))\n",
    "# batch"
   ]
  },
  {
   "cell_type": "code",
   "execution_count": 5,
   "id": "f06d37c6-556f-440f-9011-8cc236eb7a89",
   "metadata": {},
   "outputs": [],
   "source": [
    "# check_dataset = torch.utils.data.Subset(test_dataset, list(range(1000)))\n",
    "# check_loader = DataLoader(dataset=check_dataset, batch_size=256, shuffle=False, collate_fn = collate_function)"
   ]
  },
  {
   "cell_type": "code",
   "execution_count": 6,
   "id": "fadb3dc5-7f05-46b9-9c86-d38cb9803286",
   "metadata": {},
   "outputs": [
    {
     "name": "stderr",
     "output_type": "stream",
     "text": [
      "100%|██████████████████████████████████████████████████████████████████████████████| 293/293 [1:05:21<00:00, 13.38s/it]\n"
     ]
    }
   ],
   "source": [
    "all_predictions = None\n",
    "model.eval()\n",
    "n_steps = len(test_loader)\n",
    "with torch.inference_mode():\n",
    "    # for batch in tqdm(check_loader, total=len(check_loader)):\n",
    "    for batch in tqdm(test_loader, total=len(test_loader)):\n",
    "        images, texts, _ = batch\n",
    "        # targets = targets.to(device=model.backbone.device)\n",
    "        predictions = model(images, texts)\n",
    "        if all_predictions is not None:\n",
    "            all_predictions = torch.cat([all_predictions, predictions.detach().cpu()])\n",
    "        else:\n",
    "            all_predictions  = predictions.detach().cpu()\n"
   ]
  },
  {
   "cell_type": "code",
   "execution_count": 7,
   "id": "a2baa713-ec41-4b48-8f25-90986f745ce7",
   "metadata": {},
   "outputs": [
    {
     "data": {
      "text/html": [
       "<div>\n",
       "<style scoped>\n",
       "    .dataframe tbody tr th:only-of-type {\n",
       "        vertical-align: middle;\n",
       "    }\n",
       "\n",
       "    .dataframe tbody tr th {\n",
       "        vertical-align: top;\n",
       "    }\n",
       "\n",
       "    .dataframe thead th {\n",
       "        text-align: right;\n",
       "    }\n",
       "</style>\n",
       "<table border=\"1\" class=\"dataframe\">\n",
       "  <thead>\n",
       "    <tr style=\"text-align: right;\">\n",
       "      <th></th>\n",
       "      <th>sample_id</th>\n",
       "      <th>image_link</th>\n",
       "      <th>focused_sentence</th>\n",
       "    </tr>\n",
       "  </thead>\n",
       "  <tbody>\n",
       "    <tr>\n",
       "      <th>0</th>\n",
       "      <td>100179</td>\n",
       "      <td>https://m.media-amazon.com/images/I/71hoAn78AW...</td>\n",
       "      <td>Item Name: Rani 14-Spice Eshamaya's Mango Chut...</td>\n",
       "    </tr>\n",
       "    <tr>\n",
       "      <th>1</th>\n",
       "      <td>245611</td>\n",
       "      <td>https://m.media-amazon.com/images/I/61ex8NHCIj...</td>\n",
       "      <td>Item Name: Natural MILK TEA Flavoring extract ...</td>\n",
       "    </tr>\n",
       "    <tr>\n",
       "      <th>2</th>\n",
       "      <td>146263</td>\n",
       "      <td>https://m.media-amazon.com/images/I/61KCM61J8e...</td>\n",
       "      <td>Item Name: Honey Filled Hard Candy - Bulk Pack...</td>\n",
       "    </tr>\n",
       "    <tr>\n",
       "      <th>3</th>\n",
       "      <td>95658</td>\n",
       "      <td>https://m.media-amazon.com/images/I/51Ex6uOH7y...</td>\n",
       "      <td>Item Name: Vlasic Snack'mm's Kosher Dill 16 Oz...</td>\n",
       "    </tr>\n",
       "    <tr>\n",
       "      <th>4</th>\n",
       "      <td>36806</td>\n",
       "      <td>https://m.media-amazon.com/images/I/71QYlrOMoS...</td>\n",
       "      <td>Item Name: McCormick Culinary Vanilla Extract,...</td>\n",
       "    </tr>\n",
       "    <tr>\n",
       "      <th>...</th>\n",
       "      <td>...</td>\n",
       "      <td>...</td>\n",
       "      <td>...</td>\n",
       "    </tr>\n",
       "    <tr>\n",
       "      <th>74995</th>\n",
       "      <td>93616</td>\n",
       "      <td>https://m.media-amazon.com/images/I/51e9H27lgv...</td>\n",
       "      <td>Item Name: Good Seasons Zezty Italian Salad Dr...</td>\n",
       "    </tr>\n",
       "    <tr>\n",
       "      <th>74996</th>\n",
       "      <td>249434</td>\n",
       "      <td>https://m.media-amazon.com/images/I/61IpkExmVt...</td>\n",
       "      <td>Item Name: Colombina Swirled Love Tiger Pops, ...</td>\n",
       "    </tr>\n",
       "    <tr>\n",
       "      <th>74997</th>\n",
       "      <td>162217</td>\n",
       "      <td>https://m.media-amazon.com/images/I/A1NMggyCLz...</td>\n",
       "      <td>Item Name: Kerns, Guava Nectar, 11.5 Fl Oz Can...</td>\n",
       "    </tr>\n",
       "    <tr>\n",
       "      <th>74998</th>\n",
       "      <td>230487</td>\n",
       "      <td>https://m.media-amazon.com/images/I/81P69kEP5q...</td>\n",
       "      <td>Item Name: NY SPICE SHOP Licorice Candy - 1 Po...</td>\n",
       "    </tr>\n",
       "    <tr>\n",
       "      <th>74999</th>\n",
       "      <td>279477</td>\n",
       "      <td>https://m.media-amazon.com/images/I/81AkqXU7Q5...</td>\n",
       "      <td>Item Name: Rumford Baking Powder, 10-Ounces (P...</td>\n",
       "    </tr>\n",
       "  </tbody>\n",
       "</table>\n",
       "<p>75000 rows × 3 columns</p>\n",
       "</div>"
      ],
      "text/plain": [
       "       sample_id                                         image_link  \\\n",
       "0         100179  https://m.media-amazon.com/images/I/71hoAn78AW...   \n",
       "1         245611  https://m.media-amazon.com/images/I/61ex8NHCIj...   \n",
       "2         146263  https://m.media-amazon.com/images/I/61KCM61J8e...   \n",
       "3          95658  https://m.media-amazon.com/images/I/51Ex6uOH7y...   \n",
       "4          36806  https://m.media-amazon.com/images/I/71QYlrOMoS...   \n",
       "...          ...                                                ...   \n",
       "74995      93616  https://m.media-amazon.com/images/I/51e9H27lgv...   \n",
       "74996     249434  https://m.media-amazon.com/images/I/61IpkExmVt...   \n",
       "74997     162217  https://m.media-amazon.com/images/I/A1NMggyCLz...   \n",
       "74998     230487  https://m.media-amazon.com/images/I/81P69kEP5q...   \n",
       "74999     279477  https://m.media-amazon.com/images/I/81AkqXU7Q5...   \n",
       "\n",
       "                                        focused_sentence  \n",
       "0      Item Name: Rani 14-Spice Eshamaya's Mango Chut...  \n",
       "1      Item Name: Natural MILK TEA Flavoring extract ...  \n",
       "2      Item Name: Honey Filled Hard Candy - Bulk Pack...  \n",
       "3      Item Name: Vlasic Snack'mm's Kosher Dill 16 Oz...  \n",
       "4      Item Name: McCormick Culinary Vanilla Extract,...  \n",
       "...                                                  ...  \n",
       "74995  Item Name: Good Seasons Zezty Italian Salad Dr...  \n",
       "74996  Item Name: Colombina Swirled Love Tiger Pops, ...  \n",
       "74997  Item Name: Kerns, Guava Nectar, 11.5 Fl Oz Can...  \n",
       "74998  Item Name: NY SPICE SHOP Licorice Candy - 1 Po...  \n",
       "74999  Item Name: Rumford Baking Powder, 10-Ounces (P...  \n",
       "\n",
       "[75000 rows x 3 columns]"
      ]
     },
     "execution_count": 7,
     "metadata": {},
     "output_type": "execute_result"
    }
   ],
   "source": [
    "test_df = test_dataset.annotations.copy()\n",
    "test_df"
   ]
  },
  {
   "cell_type": "code",
   "execution_count": 8,
   "id": "c83e4aa3-9645-4674-b88e-9b5ea14db2fc",
   "metadata": {},
   "outputs": [],
   "source": [
    "test_df['price'] = torch.expm1(all_predictions) if use_log_scale else all_predictions"
   ]
  },
  {
   "cell_type": "code",
   "execution_count": 9,
   "id": "45640948-0e1c-4b0f-8c10-202a5ee79ba6",
   "metadata": {},
   "outputs": [
    {
     "data": {
      "text/plain": [
       "(array([4.4239e+04, 2.0529e+04, 5.8960e+03, 2.3120e+03, 1.2200e+03,\n",
       "        5.3400e+02, 1.9500e+02, 5.5000e+01, 1.8000e+01, 2.0000e+00]),\n",
       " array([  0.78618371,  16.85425186,  32.92232132,  48.99039078,\n",
       "         65.05845642,  81.12652588,  97.19459534, 113.26266479,\n",
       "        129.33073425, 145.39880371, 161.46687317]),\n",
       " <BarContainer object of 10 artists>)"
      ]
     },
     "execution_count": 9,
     "metadata": {},
     "output_type": "execute_result"
    },
    {
     "data": {
      "image/png": "[encoded data removed]",
      "text/plain": [
       "<Figure size 640x480 with 1 Axes>"
      ]
     },
     "metadata": {},
     "output_type": "display_data"
    }
   ],
   "source": [
    "plt.hist(test_df['price'])"
   ]
  },
  {
   "cell_type": "code",
   "execution_count": 10,
   "id": "f751fa2d-3a1d-4126-af8a-104530616974",
   "metadata": {},
   "outputs": [
    {
     "data": {
      "text/plain": [
       "{'whiskers': [<matplotlib.lines.Line2D at 0x21a5691c0a0>,\n",
       "  <matplotlib.lines.Line2D at 0x21a5691c3a0>],\n",
       " 'caps': [<matplotlib.lines.Line2D at 0x21a5691c6a0>,\n",
       "  <matplotlib.lines.Line2D at 0x21a5691c9a0>],\n",
       " 'boxes': [<matplotlib.lines.Line2D at 0x21a568f7d60>],\n",
       " 'medians': [<matplotlib.lines.Line2D at 0x21a5691cca0>],\n",
       " 'fliers': [<matplotlib.lines.Line2D at 0x21a5691cfa0>],\n",
       " 'means': []}"
      ]
     },
     "execution_count": 10,
     "metadata": {},
     "output_type": "execute_result"
    },
    {
     "data": {
      "image/png": "[encoded data removed]",
      "text/plain": [
       "<Figure size 640x480 with 1 Axes>"
      ]
     },
     "metadata": {},
     "output_type": "display_data"
    }
   ],
   "source": [
    "plt.boxplot(test_df['price'])"
   ]
  },
  {
   "cell_type": "code",
   "execution_count": 11,
   "id": "e2875219-3fa9-4ee9-8385-d260f292a227",
   "metadata": {},
   "outputs": [],
   "source": [
    "test_df[['sample_id', 'price']].to_csv('submission.csv', index=False)"
   ]
  },
  {
   "cell_type": "code",
   "execution_count": null,
   "id": "9fb62f69-b165-4655-bd82-2b42c2a4605f",
   "metadata": {},
   "outputs": [],
   "source": []
  },
  {
   "cell_type": "code",
   "execution_count": 14,
   "id": "e7f81c35-2994-427c-9cea-55af9cf2fef4",
   "metadata": {},
   "outputs": [
    {
     "data": {
      "text/plain": [
       "(array([22056., 33009., 11397.,  3098.,  2112.,  1761.,   747.,   384.,\n",
       "          194.,   242.]),\n",
       " array([  6.066749 ,  19.5486391,  33.0305292,  46.5124193,  59.9943094,\n",
       "         73.4761995,  86.9580896, 100.4399797, 113.9218698, 127.4037599,\n",
       "        140.88565  ]),\n",
       " <BarContainer object of 10 artists>)"
      ]
     },
     "execution_count": 14,
     "metadata": {},
     "output_type": "execute_result"
    },
    {
     "data": {
      "image/png": "[encoded data removed]",
      "text/plain": [
       "<Figure size 640x480 with 1 Axes>"
      ]
     },
     "metadata": {},
     "output_type": "display_data"
    }
   ],
   "source": [
    "prev = pd.read_csv('prev.csv')\n",
    "plt.hist(prev['price'])"
   ]
  },
  {
   "cell_type": "code",
   "execution_count": 16,
   "id": "2fb453d2-82f0-4d5d-acb3-5f9c7808fe04",
   "metadata": {},
   "outputs": [
    {
     "data": {
      "text/plain": [
       "{'whiskers': [<matplotlib.lines.Line2D at 0x1c549e994b0>,\n",
       "  <matplotlib.lines.Line2D at 0x1c549e997b0>],\n",
       " 'caps': [<matplotlib.lines.Line2D at 0x1c549e99ab0>,\n",
       "  <matplotlib.lines.Line2D at 0x1c549e99db0>],\n",
       " 'boxes': [<matplotlib.lines.Line2D at 0x1c549e991b0>],\n",
       " 'medians': [<matplotlib.lines.Line2D at 0x1c549e9a0b0>],\n",
       " 'fliers': [<matplotlib.lines.Line2D at 0x1c549e9a3b0>],\n",
       " 'means': []}"
      ]
     },
     "execution_count": 16,
     "metadata": {},
     "output_type": "execute_result"
    },
    {
     "data": {
      "image/png": "[encoded data removed]",
      "text/plain": [
       "<Figure size 640x480 with 1 Axes>"
      ]
     },
     "metadata": {},
     "output_type": "display_data"
    }
   ],
   "source": [
    "plt.boxplot(prev['price'])"
   ]
  }
 ],
 "metadata": {
  "kernelspec": {
   "display_name": "Python 3 (ipykernel)",
   "language": "python",
   "name": "python3"
  },
  "language_info": {
   "codemirror_mode": {
    "name": "ipython",
    "version": 3
   },
   "file_extension": ".py",
   "mimetype": "text/x-python",
   "name": "python",
   "nbconvert_exporter": "python",
   "pygments_lexer": "ipython3",
   "version": "3.10.7"
  }
 },
 "nbformat": 4,
 "nbformat_minor": 5
}
